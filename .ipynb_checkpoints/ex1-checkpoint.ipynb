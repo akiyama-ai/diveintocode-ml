{
 "cells": [
  {
   "cell_type": "code",
   "execution_count": 2,
   "id": "7ed0a809",
   "metadata": {},
   "outputs": [
    {
     "name": "stdout",
     "output_type": "stream",
     "text": [
      "厚さ： 703687441.77664メートル\n"
     ]
    }
   ],
   "source": [
    "# ex1\n",
    "# 紙を1回折った時の厚さを計算するコード\n",
    "\n",
    "THICKNESS = 0.00008\n",
    "n_folded = 43\n",
    "\n",
    "folded_thickness = THICKNESS * (2 ** n_folded)\n",
    "\n",
    "print(\"厚さ： {}メートル\".format(folded_thickness))"
   ]
  },
  {
   "cell_type": "code",
   "execution_count": 5,
   "id": "f5c7b84a",
   "metadata": {},
   "outputs": [
    {
     "name": "stdout",
     "output_type": "stream",
     "text": [
      "厚さ： 70.37キロメートル\n"
     ]
    }
   ],
   "source": [
    "# ex2\n",
    "# メートルをキロメートルに変換して小数点以下2桁で表示する\n",
    "print(\"厚さ： {:.2f}キロメートル\".format(folded_thickness / (1000 * 10 ** 4)))"
   ]
  },
  {
   "cell_type": "code",
   "execution_count": 6,
   "id": "c7047975",
   "metadata": {},
   "outputs": [
    {
     "name": "stdout",
     "output_type": "stream",
     "text": [
      "厚さ： 703687441.77664メートル\n"
     ]
    }
   ],
   "source": [
    "# ex3\n",
    "# 紙を1回折った時の厚さを計算するコード\n",
    "\n",
    "THICKNESS = 0.00008\n",
    "n_folded = 43\n",
    "\n",
    "folded_thickness = THICKNESS\n",
    "for i in range(n_folded):\n",
    "    folded_thickness = 2 * folded_thickness\n",
    "\n",
    "print(\"厚さ： {}メートル\".format(folded_thickness))"
   ]
  },
  {
   "cell_type": "code",
   "execution_count": 18,
   "id": "3dbfe6cc",
   "metadata": {},
   "outputs": [
    {
     "name": "stdout",
     "output_type": "stream",
     "text": [
      "厚さ： 8.572068857490139e+296メートル\n",
      "time : 0.001409292221069336[s]\n"
     ]
    }
   ],
   "source": [
    "# ex4\n",
    "import time\n",
    "start = time.time()\n",
    "#####\n",
    "THICKNESS = 0.00008\n",
    "n_folded = 1000\n",
    "\n",
    "folded_thickness = THICKNESS * (2 ** n_folded)\n",
    "\n",
    "print(\"厚さ： {}メートル\".format(folded_thickness))\n",
    "#####\n",
    "elapsed_time = time.time() - start\n",
    "print(\"time : {}[s]\".format(elapsed_time))"
   ]
  },
  {
   "cell_type": "code",
   "execution_count": 19,
   "id": "26d55575",
   "metadata": {},
   "outputs": [
    {
     "name": "stdout",
     "output_type": "stream",
     "text": [
      "厚さ： 8.572068857490139e+296メートル\n",
      "time : 0.001964092254638672[s]\n"
     ]
    }
   ],
   "source": [
    "import time\n",
    "start = time.time()\n",
    "#####\n",
    "THICKNESS = 0.00008\n",
    "n_folded = 1000\n",
    "\n",
    "folded_thickness = THICKNESS\n",
    "for i in range(n_folded):\n",
    "    folded_thickness = 2 * folded_thickness\n",
    "    \n",
    "print(\"厚さ： {}メートル\".format(folded_thickness))\n",
    "#####\n",
    "elapsed_time = time.time() - start\n",
    "print(\"time : {}[s]\".format(elapsed_time))"
   ]
  },
  {
   "cell_type": "code",
   "execution_count": 24,
   "id": "b67aed6e",
   "metadata": {},
   "outputs": [
    {
     "name": "stdout",
     "output_type": "stream",
     "text": [
      "632 ns ± 62 ns per loop (mean ± std. dev. of 7 runs, 1,000,000 loops each)\n"
     ]
    }
   ],
   "source": [
    "%%timeit\n",
    "THICKNESS = 0.00008\n",
    "n_folded = 100\n",
    "\n",
    "folded_thickness = THICKNESS * (2 ** n_folded)\n",
    "\n",
    "# print(\"厚さ： {}メートル\".format(folded_thickness))"
   ]
  },
  {
   "cell_type": "code",
   "execution_count": 25,
   "id": "ad1143d5",
   "metadata": {},
   "outputs": [
    {
     "name": "stdout",
     "output_type": "stream",
     "text": [
      "5.84 µs ± 188 ns per loop (mean ± std. dev. of 7 runs, 100,000 loops each)\n"
     ]
    }
   ],
   "source": [
    "%%timeit\n",
    "THICKNESS = 0.00008\n",
    "n_folded = 100\n",
    "\n",
    "folded_thickness = THICKNESS\n",
    "for i in range(n_folded):\n",
    "    folded_thickness = 2 * folded_thickness\n",
    "    "
   ]
  },
  {
   "cell_type": "code",
   "execution_count": 28,
   "id": "3a2b7ef6",
   "metadata": {},
   "outputs": [
    {
     "name": "stdout",
     "output_type": "stream",
     "text": [
      "44\n",
      "[8e-05, 0.00016, 0.00032, 0.00064, 0.00128, 0.00256, 0.00512, 0.01024, 0.02048, 0.04096, 0.08192, 0.16384, 0.32768, 0.65536, 1.31072, 2.62144, 5.24288, 10.48576, 20.97152, 41.94304, 83.88608, 167.77216, 335.54432, 671.08864, 1342.17728, 2684.35456, 5368.70912, 10737.41824, 21474.83648, 42949.67296, 85899.34592, 171798.69184, 343597.38368, 687194.76736, 1374389.53472, 2748779.06944, 5497558.13888, 10995116.27776, 21990232.55552, 43980465.11104, 87960930.22208, 175921860.44416, 351843720.88832, 703687441.77664]\n"
     ]
    }
   ],
   "source": [
    "# ex5\n",
    "THICKNESS = 0.00008\n",
    "n_folded = 43\n",
    "\n",
    "folded_thickness_list = [THICKNESS]\n",
    "for i in range(n_folded):\n",
    "    folded_thickness_list += [folded_thickness_list[i] * 2]\n",
    "\n",
    "print(len(folded_thickness_list))\n",
    "# print(folded_thickness_list)"
   ]
  },
  {
   "cell_type": "code",
   "execution_count": null,
   "id": "99e41817",
   "metadata": {},
   "outputs": [],
   "source": []
  }
 ],
 "metadata": {
  "kernelspec": {
   "display_name": "Python 3 (ipykernel)",
   "language": "python",
   "name": "python3"
  },
  "language_info": {
   "codemirror_mode": {
    "name": "ipython",
    "version": 3
   },
   "file_extension": ".py",
   "mimetype": "text/x-python",
   "name": "python",
   "nbconvert_exporter": "python",
   "pygments_lexer": "ipython3",
   "version": "3.9.12"
  }
 },
 "nbformat": 4,
 "nbformat_minor": 5
}
